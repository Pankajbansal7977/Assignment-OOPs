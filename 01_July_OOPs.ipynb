{
 "cells": [
  {
   "cell_type": "code",
   "execution_count": 1,
   "id": "f83baad8",
   "metadata": {},
   "outputs": [],
   "source": [
    "# 1. What is the primary goal of Object-Oriented Programming (OOP)?"
   ]
  },
  {
   "cell_type": "code",
   "execution_count": 2,
   "id": "c46cf79a",
   "metadata": {},
   "outputs": [
    {
     "data": {
      "text/plain": [
       "'\\nAns- The primary goal of Object-Oriented Programming (OOP) is to organize and structure code in a way that models real-world objects and their interactions. OOP is a programming paradigm that uses objects as the fundamental building blocks of software systems. The main goals of OOP are:\\nAbstraction , Encapsulation , Inheritance , Polymorphism , Modularity , Flexibility and Reusability\\n'"
      ]
     },
     "execution_count": 2,
     "metadata": {},
     "output_type": "execute_result"
    }
   ],
   "source": [
    "'''\n",
    "Ans- The primary goal of Object-Oriented Programming (OOP) is to organize and structure code in a way that models real-world objects and their interactions. OOP is a programming paradigm that uses objects as the fundamental building blocks of software systems. The main goals of OOP are:\n",
    "Abstraction , Encapsulation , Inheritance , Polymorphism , Modularity , Flexibility and Reusability\n",
    "'''"
   ]
  },
  {
   "cell_type": "code",
   "execution_count": 3,
   "id": "7697ce60",
   "metadata": {},
   "outputs": [],
   "source": [
    "# 2. What is an object in Python?"
   ]
  },
  {
   "cell_type": "code",
   "execution_count": 4,
   "id": "c2f46e0a",
   "metadata": {},
   "outputs": [
    {
     "name": "stdout",
     "output_type": "stream",
     "text": [
      "Buddy\n",
      "Labrador\n",
      "Buddy barks!\n"
     ]
    }
   ],
   "source": [
    "'''\n",
    "Ans -  \n",
    "In Python, an object is a fundamental concept and a core building block of the language. Everything in Python is an object, which means that every piece of data and every piece of code you write in Python can be thought of as an object. \n",
    "'''\n",
    "# Example \n",
    "class Dog:\n",
    "    def __init__(self, name, breed):\n",
    "        self.name = name\n",
    "        self.breed = breed\n",
    "\n",
    "    def bark(self):\n",
    "        print(f\"{self.name} barks!\")\n",
    "\n",
    "# Creating instances (objects) of the Dog class\n",
    "dog1 = Dog(\"Buddy\", \"Golden Retriever\")\n",
    "dog2 = Dog(\"Daisy\", \"Labrador\")\n",
    "\n",
    "# Accessing object attributes and calling methods\n",
    "print(dog1.name)      \n",
    "print(dog2.breed)     \n",
    "dog1.bark()          \n"
   ]
  },
  {
   "cell_type": "code",
   "execution_count": 5,
   "id": "b28381d5",
   "metadata": {},
   "outputs": [],
   "source": [
    "# 3. What is a class in Python?"
   ]
  },
  {
   "cell_type": "code",
   "execution_count": 8,
   "id": "b082bd3a",
   "metadata": {},
   "outputs": [
    {
     "data": {
      "text/plain": [
       "'\\nAns- In Python, a class is a blueprint or a template for creating objects (instances). It defines the structure and behavior that objects of the class will have. A class is like a prototype that specifies the attributes (data) and methods (functions) that its objects will possess. \\n'"
      ]
     },
     "execution_count": 8,
     "metadata": {},
     "output_type": "execute_result"
    }
   ],
   "source": [
    "'''\n",
    "Ans- In Python, a class is a blueprint or a template for creating objects (instances). It defines the structure and behavior that objects of the class will have. A class is like a prototype that specifies the attributes (data) and methods (functions) that its objects will possess. \n",
    "'''\n",
    "\n",
    "             \n"
   ]
  },
  {
   "cell_type": "code",
   "execution_count": 9,
   "id": "d30d7499",
   "metadata": {},
   "outputs": [],
   "source": [
    "# 4. What are attributes and methods in a class?"
   ]
  },
  {
   "cell_type": "code",
   "execution_count": 10,
   "id": "7c1eaa5f",
   "metadata": {},
   "outputs": [],
   "source": [
    "'''\n",
    "Ans- In object-oriented programming (OOP), attributes and methods are key components of a class, which is a blueprint or template for creating objects. These components define the structure and behavior of objects created from the class. \n",
    "'''\n",
    "# Attributes (Data Members or Fields)\n",
    "class Person:\n",
    "    def __init__(self, name, age):\n",
    "        self.name = name  # 'name' is an attribute\n",
    "        self.age = age    # 'age' is an attribute\n",
    "# Methods (Member Functions)\n",
    "class Circle:\n",
    "    def __init__(self, radius):\n",
    "        self.radius = radius  # 'radius' is an attribute\n",
    "\n",
    "    def area(self):\n",
    "        return 3.141592653589793 * self.radius**2  # 'area' is a method\n"
   ]
  },
  {
   "cell_type": "code",
   "execution_count": 11,
   "id": "1b676cb1",
   "metadata": {},
   "outputs": [],
   "source": [
    "# 5. What is the difference between class variables and instance variables in Python?"
   ]
  },
  {
   "cell_type": "code",
   "execution_count": 12,
   "id": "5bf372e3",
   "metadata": {},
   "outputs": [],
   "source": [
    "'''\n",
    "Ans-  Class Variables:\n",
    "\n",
    "Class variables are shared among all instances (objects) of a class. They are defined within the class but outside of any methods.\n",
    "'''\n",
    "# example \n",
    "class Dog:\n",
    "    species = \"Canis familiaris\"  # 'species' is a class variable\n",
    "\n",
    "    def __init__(self, name, breed):\n",
    "        self.name = name  # 'name' is an instance variable\n",
    "        self.breed = breed  # 'breed' is an instance variable\n",
    "'''\n",
    "Instance Variables:\n",
    "\n",
    "Instance variables are specific to each instance of the class. They are defined inside the class's methods, typically within the constructor method (__init__), and are unique to each object.\n",
    "'''\n",
    "# example \n",
    "class Person:\n",
    "    def __init__(self, name, age):\n",
    "        self.name = name  # 'name' is an instance variable\n",
    "        self.age = age    # 'age' is an instance variable\n"
   ]
  },
  {
   "cell_type": "code",
   "execution_count": 13,
   "id": "4b611d59",
   "metadata": {},
   "outputs": [],
   "source": [
    "# 6. What is the purpose of the self parameter in Python class methods?"
   ]
  },
  {
   "cell_type": "code",
   "execution_count": 14,
   "id": "233ccf69",
   "metadata": {},
   "outputs": [],
   "source": [
    "'''\n",
    "Ans- In Python, the self parameter in class methods serves a specific purpose: it is a reference to the instance (object) of the class that the method is being called on. This parameter is not a reserved keyword, and you could technically use any name you like for it, but it is a widely followed convention to name it self for clarity and consistency \n",
    "'''\n",
    "# Accessing Instance Variables\n",
    "class Person:\n",
    "    def __init__(self, name, age):\n",
    "        self.name = name  # 'name' is an instance variable\n",
    "        self.age = age    # 'age' is an instance variable\n",
    "\n",
    "    def greet(self):\n",
    "        print(f\"Hello, my name is {self.name} and I am {self.age} years old.\")\n",
    "\n",
    "# Calling Other Instance Methods\n",
    "class Calculator:\n",
    "    def __init__(self, value):\n",
    "        self.value = value  # 'value' is an instance variable\n",
    "\n",
    "    def add(self, x):\n",
    "        self.value += x\n",
    "\n",
    "    def subtract(self, x):\n",
    "        self.value -= x\n",
    "\n",
    "calc = Calculator(10)\n",
    "calc.add(5)        # Calls 'add' method with 'self' referring to 'calc' instance\n",
    "calc.subtract(3)   # Calls 'subtract' method with 'self' referring to 'calc' instance\n"
   ]
  },
  {
   "cell_type": "code",
   "execution_count": null,
   "id": "9382cfdc",
   "metadata": {},
   "outputs": [],
   "source": [
    "'''\n",
    "7. For a library management system, you have to design the \"Book\" class with OOP\n",
    "principles in mind. The “Book” class will have following attributes:\n",
    "a. title: Represents the title of the book.\n",
    "b. author: Represents the author(s) of the book.\n",
    "c. isbn: Represents the ISBN (International Standard Book Number) of the book.\n",
    "d. publication_year: Represents the year of publication of the book.\n",
    "e. available_copies: Represents the number of copies available for checkout.\n",
    "The class will also include the following methods:\n",
    "a. check_out(self): Decrements the available copies by one if there are copies\n",
    "available for checkout.\n",
    "b. return_book(self): Increments the available copies by one when a book is\n",
    "returned.\n",
    "c. display_book_info(self): Displays the information about the book, including its\n",
    "attributes and the number of available copies.'''"
   ]
  },
  {
   "cell_type": "code",
   "execution_count": 15,
   "id": "21124395",
   "metadata": {},
   "outputs": [
    {
     "name": "stdout",
     "output_type": "stream",
     "text": [
      "Book Information:\n",
      "Title: Python Programming\n",
      "Author(s): John Doe\n",
      "ISBN: 978-1234567890\n",
      "Publication Year: 2022\n",
      "Available Copies: 5\n",
      "Checked out: Python Programming by John Doe\n",
      "Book Information:\n",
      "Title: Python Programming\n",
      "Author(s): John Doe\n",
      "ISBN: 978-1234567890\n",
      "Publication Year: 2022\n",
      "Available Copies: 4\n",
      "Returned: Python Programming by John Doe\n",
      "Book Information:\n",
      "Title: Python Programming\n",
      "Author(s): John Doe\n",
      "ISBN: 978-1234567890\n",
      "Publication Year: 2022\n",
      "Available Copies: 5\n"
     ]
    }
   ],
   "source": [
    "class Book:\n",
    "    def __init__(self, title, author, isbn, publication_year, available_copies):\n",
    "        self.title = title\n",
    "        self.author = author\n",
    "        self.isbn = isbn\n",
    "        self.publication_year = publication_year\n",
    "        self.available_copies = available_copies\n",
    "\n",
    "    def check_out(self):\n",
    "        if self.available_copies > 0:\n",
    "            self.available_copies -= 1\n",
    "            print(f\"Checked out: {self.title} by {self.author}\")\n",
    "        else:\n",
    "            print(f\"Sorry, no available copies of {self.title} by {self.author}\")\n",
    "\n",
    "    def return_book(self):\n",
    "        self.available_copies += 1\n",
    "        print(f\"Returned: {self.title} by {self.author}\")\n",
    "\n",
    "    def display_book_info(self):\n",
    "        print(\"Book Information:\")\n",
    "        print(f\"Title: {self.title}\")\n",
    "        print(f\"Author(s): {self.author}\")\n",
    "        print(f\"ISBN: {self.isbn}\")\n",
    "        print(f\"Publication Year: {self.publication_year}\")\n",
    "        print(f\"Available Copies: {self.available_copies}\")\n",
    "\n",
    "# Example usage:\n",
    "book1 = Book(\"Python Programming\", \"John Doe\", \"978-1234567890\", 2022, 5)\n",
    "book2 = Book(\"Data Science Essentials\", \"Jane Smith\", \"978-9876543210\", 2021, 3)\n",
    "\n",
    "book1.display_book_info()\n",
    "book1.check_out()\n",
    "book1.display_book_info()\n",
    "book1.return_book()\n",
    "book1.display_book_info()\n"
   ]
  },
  {
   "cell_type": "code",
   "execution_count": null,
   "id": "81ec956d",
   "metadata": {},
   "outputs": [],
   "source": [
    "'''\n",
    "8. For a ticket booking system, you have to design the \"Ticket\" class with OOP\n",
    "principles in mind. The “Ticket” class should have the following attributes:\n",
    "a. ticket_id: Represents the unique identifier for the ticket.\n",
    "b. event_name: Represents the name of the event.\n",
    "c. event_date: Represents the date of the event.\n",
    "d. venue: Represents the venue of the event.\n",
    "e. seat_number: Represents the seat number associated with the ticket.\n",
    "f. price: Represents the price of the ticket.\n",
    "g. is_reserved: Represents the reservation status of the ticket.\n",
    "The class also includes the following methods:\n",
    "a. reserve_ticket(self): Marks the ticket as reserved if it is not already reserved.\n",
    "b. cancel_reservation(self): Cancels the reservation of the ticket if it is already\n",
    "reserved.\n",
    "c. display_ticket_info(self): Displays the information about the ticket, including its\n",
    "attributes and reservation status.'''"
   ]
  },
  {
   "cell_type": "code",
   "execution_count": 16,
   "id": "c5f465b3",
   "metadata": {},
   "outputs": [
    {
     "name": "stdout",
     "output_type": "stream",
     "text": [
      "Ticket Information:\n",
      "Ticket ID: 1\n",
      "Event Name: Concert\n",
      "Event Date: 2023-09-20\n",
      "Venue: City Arena\n",
      "Seat Number: A12\n",
      "Price: $50.0\n",
      "Reservation Status: Not Reserved\n",
      "Ticket 1 for Concert is now reserved.\n",
      "Ticket Information:\n",
      "Ticket ID: 1\n",
      "Event Name: Concert\n",
      "Event Date: 2023-09-20\n",
      "Venue: City Arena\n",
      "Seat Number: A12\n",
      "Price: $50.0\n",
      "Reservation Status: Reserved\n",
      "Reservation for ticket 1 has been canceled.\n",
      "Ticket Information:\n",
      "Ticket ID: 1\n",
      "Event Name: Concert\n",
      "Event Date: 2023-09-20\n",
      "Venue: City Arena\n",
      "Seat Number: A12\n",
      "Price: $50.0\n",
      "Reservation Status: Not Reserved\n"
     ]
    }
   ],
   "source": [
    "class Ticket:\n",
    "    def __init__(self, ticket_id, event_name, event_date, venue, seat_number, price):\n",
    "        self.ticket_id = ticket_id\n",
    "        self.event_name = event_name\n",
    "        self.event_date = event_date\n",
    "        self.venue = venue\n",
    "        self.seat_number = seat_number\n",
    "        self.price = price\n",
    "        self.is_reserved = False  # Tickets are initially not reserved\n",
    "\n",
    "    def reserve_ticket(self):\n",
    "        if not self.is_reserved:\n",
    "            self.is_reserved = True\n",
    "            print(f\"Ticket {self.ticket_id} for {self.event_name} is now reserved.\")\n",
    "        else:\n",
    "            print(f\"Ticket {self.ticket_id} is already reserved.\")\n",
    "\n",
    "    def cancel_reservation(self):\n",
    "        if self.is_reserved:\n",
    "            self.is_reserved = False\n",
    "            print(f\"Reservation for ticket {self.ticket_id} has been canceled.\")\n",
    "        else:\n",
    "            print(f\"Ticket {self.ticket_id} is not reserved.\")\n",
    "\n",
    "    def display_ticket_info(self):\n",
    "        print(\"Ticket Information:\")\n",
    "        print(f\"Ticket ID: {self.ticket_id}\")\n",
    "        print(f\"Event Name: {self.event_name}\")\n",
    "        print(f\"Event Date: {self.event_date}\")\n",
    "        print(f\"Venue: {self.venue}\")\n",
    "        print(f\"Seat Number: {self.seat_number}\")\n",
    "        print(f\"Price: ${self.price}\")\n",
    "        print(f\"Reservation Status: {'Reserved' if self.is_reserved else 'Not Reserved'}\")\n",
    "\n",
    "# Example usage:\n",
    "ticket1 = Ticket(1, \"Concert\", \"2023-09-20\", \"City Arena\", \"A12\", 50.0)\n",
    "ticket2 = Ticket(2, \"Movie Premiere\", \"2023-10-05\", \"Cinema Palace\", \"B5\", 15.0)\n",
    "\n",
    "ticket1.display_ticket_info()\n",
    "ticket1.reserve_ticket()\n",
    "ticket1.display_ticket_info()\n",
    "ticket1.cancel_reservation()\n",
    "ticket1.display_ticket_info()\n"
   ]
  },
  {
   "cell_type": "code",
   "execution_count": null,
   "id": "b94f427d",
   "metadata": {},
   "outputs": [],
   "source": [
    "'''\n",
    "9. You are creating a shopping cart for an e-commerce website. Using OOP to model\n",
    "the \"ShoppingCart\" functionality the class should contain following attributes and\n",
    "methods:\n",
    "a. items: Represents the list of items in the shopping cart.\n",
    "The class also includes the following methods:\n",
    "\n",
    "a. add_item(self, item): Adds an item to the shopping cart by appending it to the\n",
    "list of items.\n",
    "b. remove_item(self, item): Removes an item from the shopping cart if it exists in\n",
    "the list.\n",
    "c. view_cart(self): Displays the items currently present in the shopping cart.\n",
    "d. clear_cart(self): Clears all items from the shopping cart by reassigning an\n",
    "empty list to the items attribute.'''"
   ]
  },
  {
   "cell_type": "code",
   "execution_count": 17,
   "id": "d140ccf7",
   "metadata": {},
   "outputs": [
    {
     "name": "stdout",
     "output_type": "stream",
     "text": [
      "Item 1 has been added to the shopping cart.\n",
      "Item 2 has been added to the shopping cart.\n",
      "Items in the shopping cart:\n",
      "- Item 1\n",
      "- Item 2\n",
      "Item 1 has been removed from the shopping cart.\n",
      "Items in the shopping cart:\n",
      "- Item 2\n",
      "The shopping cart has been cleared.\n",
      "The shopping cart is empty.\n"
     ]
    }
   ],
   "source": [
    "class ShoppingCart:\n",
    "    def __init__(self):\n",
    "        self.items = []\n",
    "\n",
    "    def add_item(self, item):\n",
    "        self.items.append(item)\n",
    "        print(f\"{item} has been added to the shopping cart.\")\n",
    "\n",
    "    def remove_item(self, item):\n",
    "        if item in self.items:\n",
    "            self.items.remove(item)\n",
    "            print(f\"{item} has been removed from the shopping cart.\")\n",
    "        else:\n",
    "            print(f\"{item} is not in the shopping cart.\")\n",
    "\n",
    "    def view_cart(self):\n",
    "        if not self.items:\n",
    "            print(\"The shopping cart is empty.\")\n",
    "        else:\n",
    "            print(\"Items in the shopping cart:\")\n",
    "            for item in self.items:\n",
    "                print(f\"- {item}\")\n",
    "\n",
    "    def clear_cart(self):\n",
    "        self.items = []\n",
    "        print(\"The shopping cart has been cleared.\")\n",
    "\n",
    "# Example usage:\n",
    "cart = ShoppingCart()\n",
    "\n",
    "cart.add_item(\"Item 1\")\n",
    "cart.add_item(\"Item 2\")\n",
    "cart.view_cart()\n",
    "\n",
    "cart.remove_item(\"Item 1\")\n",
    "cart.view_cart()\n",
    "\n",
    "cart.clear_cart()\n",
    "cart.view_cart()\n"
   ]
  },
  {
   "cell_type": "code",
   "execution_count": null,
   "id": "5bfb18b3",
   "metadata": {},
   "outputs": [],
   "source": [
    "'''\n",
    "10. Imagine a school management system. You have to design the \"Student\" class using\n",
    "OOP concepts.The “Student” class has the following attributes:\n",
    "a. name: Represents the name of the student.\n",
    "b. age: Represents the age of the student.\n",
    "c. grade: Represents the grade or class of the student.\n",
    "d. student_id: Represents the unique identifier for the student.\n",
    "e. attendance: Represents the attendance record of the student.\n",
    "The class should also include the following methods:\n",
    "a. update_attendance(self, date, status): Updates the attendance record of the\n",
    "student for a given date with the provided status (e.g., present or absent).\n",
    "b. get_attendance(self): Returns the attendance record of the student.\n",
    "c. get_average_attendance(self): Calculates and returns the average\n",
    "attendance percentage of the student based on their attendance record.'''"
   ]
  },
  {
   "cell_type": "code",
   "execution_count": 18,
   "id": "554f825d",
   "metadata": {},
   "outputs": [
    {
     "name": "stdout",
     "output_type": "stream",
     "text": [
      "Alice's Attendance Record:\n",
      "2023-09-10: present\n",
      "2023-09-11: absent\n",
      "2023-09-12: present\n",
      "Average Attendance Percentage: 66.67%\n"
     ]
    }
   ],
   "source": [
    "class Student:\n",
    "    def __init__(self, name, age, grade, student_id):\n",
    "        self.name = name\n",
    "        self.age = age\n",
    "        self.grade = grade\n",
    "        self.student_id = student_id\n",
    "        self.attendance = {}  # Using a dictionary to store attendance records\n",
    "\n",
    "    def update_attendance(self, date, status):\n",
    "        if date not in self.attendance:\n",
    "            self.attendance[date] = status\n",
    "        else:\n",
    "            print(f\"Attendance for {date} has already been recorded.\")\n",
    "\n",
    "    def get_attendance(self):\n",
    "        return self.attendance\n",
    "\n",
    "    def get_average_attendance(self):\n",
    "        if not self.attendance:\n",
    "            return 0.0  # Return 0% if there is no attendance record\n",
    "\n",
    "        total_days = len(self.attendance)\n",
    "        present_days = sum(status == 'present' for status in self.attendance.values())\n",
    "        average_percentage = (present_days / total_days) * 100\n",
    "        return average_percentage\n",
    "\n",
    "# Example usage:\n",
    "student1 = Student(\"Alice\", 15, \"10th Grade\", \"S12345\")\n",
    "\n",
    "student1.update_attendance(\"2023-09-10\", \"present\")\n",
    "student1.update_attendance(\"2023-09-11\", \"absent\")\n",
    "student1.update_attendance(\"2023-09-12\", \"present\")\n",
    "\n",
    "print(f\"{student1.name}'s Attendance Record:\")\n",
    "for date, status in student1.get_attendance().items():\n",
    "    print(f\"{date}: {status}\")\n",
    "\n",
    "average_attendance = student1.get_average_attendance()\n",
    "print(f\"Average Attendance Percentage: {average_attendance:.2f}%\")\n"
   ]
  },
  {
   "cell_type": "code",
   "execution_count": null,
   "id": "7486afb2",
   "metadata": {},
   "outputs": [],
   "source": []
  }
 ],
 "metadata": {
  "kernelspec": {
   "display_name": "Python 3 (ipykernel)",
   "language": "python",
   "name": "python3"
  },
  "language_info": {
   "codemirror_mode": {
    "name": "ipython",
    "version": 3
   },
   "file_extension": ".py",
   "mimetype": "text/x-python",
   "name": "python",
   "nbconvert_exporter": "python",
   "pygments_lexer": "ipython3",
   "version": "3.10.11"
  }
 },
 "nbformat": 4,
 "nbformat_minor": 5
}
